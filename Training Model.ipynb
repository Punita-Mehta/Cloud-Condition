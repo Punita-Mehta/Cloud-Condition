{
 "cells": [
  {
   "cell_type": "markdown",
   "metadata": {},
   "source": [
    "# Cloud Condition Prediction"
   ]
  },
  {
   "cell_type": "markdown",
   "metadata": {},
   "source": [
    "### Importing Libraries"
   ]
  },
  {
   "cell_type": "code",
   "execution_count": 212,
   "metadata": {},
   "outputs": [],
   "source": [
    "import pandas as pd\n",
    "import numpy as np\n",
    "import matplotlib.pyplot as plt\n",
    "import seaborn as sns\n",
    "import warnings \n",
    "warnings.filterwarnings(\"ignore\")"
   ]
  },
  {
   "cell_type": "markdown",
   "metadata": {},
   "source": [
    "### Creating Dataframe"
   ]
  },
  {
   "cell_type": "code",
   "execution_count": 213,
   "metadata": {},
   "outputs": [
    {
     "data": {
      "text/plain": [
       "(71428, 12)"
      ]
     },
     "execution_count": 213,
     "metadata": {},
     "output_type": "execute_result"
    }
   ],
   "source": [
    "raw_data= pd.read_csv(\"train_CloudCondition.csv\")\n",
    "raw_data.shape"
   ]
  },
  {
   "cell_type": "markdown",
   "metadata": {},
   "source": [
    "Data is of 71428 days and 11 parameters describing the weather conditions on that day"
   ]
  },
  {
   "cell_type": "code",
   "execution_count": 214,
   "metadata": {},
   "outputs": [
    {
     "data": {
      "text/html": [
       "<div>\n",
       "<style scoped>\n",
       "    .dataframe tbody tr th:only-of-type {\n",
       "        vertical-align: middle;\n",
       "    }\n",
       "\n",
       "    .dataframe tbody tr th {\n",
       "        vertical-align: top;\n",
       "    }\n",
       "\n",
       "    .dataframe thead th {\n",
       "        text-align: right;\n",
       "    }\n",
       "</style>\n",
       "<table border=\"1\" class=\"dataframe\">\n",
       "  <thead>\n",
       "    <tr style=\"text-align: right;\">\n",
       "      <th></th>\n",
       "      <th>Day</th>\n",
       "      <th>Cloud_Condition</th>\n",
       "      <th>Rain_OR_SNOW</th>\n",
       "      <th>Temperature (C)</th>\n",
       "      <th>Apparent Temperature (C)</th>\n",
       "      <th>Humidity</th>\n",
       "      <th>Wind Speed (km/h)</th>\n",
       "      <th>Wind Bearing (degrees)</th>\n",
       "      <th>Visibility (km)</th>\n",
       "      <th>Pressure (millibars)</th>\n",
       "      <th>Condensation</th>\n",
       "      <th>Solar irradiance intensity</th>\n",
       "    </tr>\n",
       "  </thead>\n",
       "  <tbody>\n",
       "    <tr>\n",
       "      <th>0</th>\n",
       "      <td>1</td>\n",
       "      <td>Partly Cloudy</td>\n",
       "      <td>rain</td>\n",
       "      <td>-13</td>\n",
       "      <td>-19.0</td>\n",
       "      <td>0.134364</td>\n",
       "      <td>17.0</td>\n",
       "      <td>68.0</td>\n",
       "      <td>4.0</td>\n",
       "      <td>1008.0</td>\n",
       "      <td>Frost</td>\n",
       "      <td>1068</td>\n",
       "    </tr>\n",
       "    <tr>\n",
       "      <th>1</th>\n",
       "      <td>2</td>\n",
       "      <td>Partly Cloudy</td>\n",
       "      <td>rain</td>\n",
       "      <td>15</td>\n",
       "      <td>5.0</td>\n",
       "      <td>0.847434</td>\n",
       "      <td>8.0</td>\n",
       "      <td>291.0</td>\n",
       "      <td>2.0</td>\n",
       "      <td>1036.0</td>\n",
       "      <td>Frost</td>\n",
       "      <td>1291</td>\n",
       "    </tr>\n",
       "    <tr>\n",
       "      <th>2</th>\n",
       "      <td>3</td>\n",
       "      <td>Partly Cloudy</td>\n",
       "      <td>rain</td>\n",
       "      <td>33</td>\n",
       "      <td>-12.0</td>\n",
       "      <td>0.763775</td>\n",
       "      <td>32.0</td>\n",
       "      <td>32.0</td>\n",
       "      <td>8.0</td>\n",
       "      <td>1004.0</td>\n",
       "      <td>Dry</td>\n",
       "      <td>1433</td>\n",
       "    </tr>\n",
       "    <tr>\n",
       "      <th>3</th>\n",
       "      <td>4</td>\n",
       "      <td>Partly Cloudy</td>\n",
       "      <td>snow</td>\n",
       "      <td>30</td>\n",
       "      <td>36.0</td>\n",
       "      <td>0.255069</td>\n",
       "      <td>15.0</td>\n",
       "      <td>130.0</td>\n",
       "      <td>3.0</td>\n",
       "      <td>1016.0</td>\n",
       "      <td>Dry</td>\n",
       "      <td>1410</td>\n",
       "    </tr>\n",
       "    <tr>\n",
       "      <th>4</th>\n",
       "      <td>5</td>\n",
       "      <td>Partly Cloudy</td>\n",
       "      <td>snow</td>\n",
       "      <td>27</td>\n",
       "      <td>30.0</td>\n",
       "      <td>0.495435</td>\n",
       "      <td>63.0</td>\n",
       "      <td>60.0</td>\n",
       "      <td>15.0</td>\n",
       "      <td>1007.0</td>\n",
       "      <td>Fog</td>\n",
       "      <td>1391</td>\n",
       "    </tr>\n",
       "  </tbody>\n",
       "</table>\n",
       "</div>"
      ],
      "text/plain": [
       "   Day Cloud_Condition Rain_OR_SNOW Temperature (C)  Apparent Temperature (C)  \\\n",
       "0    1   Partly Cloudy         rain             -13                     -19.0   \n",
       "1    2   Partly Cloudy         rain              15                       5.0   \n",
       "2    3   Partly Cloudy         rain              33                     -12.0   \n",
       "3    4   Partly Cloudy         snow              30                      36.0   \n",
       "4    5   Partly Cloudy         snow              27                      30.0   \n",
       "\n",
       "   Humidity  Wind Speed (km/h)  Wind Bearing (degrees)  Visibility (km)  \\\n",
       "0  0.134364               17.0                    68.0              4.0   \n",
       "1  0.847434                8.0                   291.0              2.0   \n",
       "2  0.763775               32.0                    32.0              8.0   \n",
       "3  0.255069               15.0                   130.0              3.0   \n",
       "4  0.495435               63.0                    60.0             15.0   \n",
       "\n",
       "   Pressure (millibars) Condensation  Solar irradiance intensity  \n",
       "0                1008.0        Frost                        1068  \n",
       "1                1036.0        Frost                        1291  \n",
       "2                1004.0          Dry                        1433  \n",
       "3                1016.0          Dry                        1410  \n",
       "4                1007.0          Fog                        1391  "
      ]
     },
     "execution_count": 214,
     "metadata": {},
     "output_type": "execute_result"
    }
   ],
   "source": [
    "raw_data.head()"
   ]
  },
  {
   "cell_type": "code",
   "execution_count": 215,
   "metadata": {},
   "outputs": [
    {
     "data": {
      "text/html": [
       "<div>\n",
       "<style scoped>\n",
       "    .dataframe tbody tr th:only-of-type {\n",
       "        vertical-align: middle;\n",
       "    }\n",
       "\n",
       "    .dataframe tbody tr th {\n",
       "        vertical-align: top;\n",
       "    }\n",
       "\n",
       "    .dataframe thead th {\n",
       "        text-align: right;\n",
       "    }\n",
       "</style>\n",
       "<table border=\"1\" class=\"dataframe\">\n",
       "  <thead>\n",
       "    <tr style=\"text-align: right;\">\n",
       "      <th></th>\n",
       "      <th>Day</th>\n",
       "      <th>Cloud_Condition</th>\n",
       "      <th>Rain_OR_SNOW</th>\n",
       "      <th>Temperature (C)</th>\n",
       "      <th>Apparent Temperature (C)</th>\n",
       "      <th>Humidity</th>\n",
       "      <th>Wind Speed (km/h)</th>\n",
       "      <th>Wind Bearing (degrees)</th>\n",
       "      <th>Visibility (km)</th>\n",
       "      <th>Pressure (millibars)</th>\n",
       "      <th>Condensation</th>\n",
       "      <th>Solar irradiance intensity</th>\n",
       "    </tr>\n",
       "  </thead>\n",
       "  <tbody>\n",
       "    <tr>\n",
       "      <th>71423</th>\n",
       "      <td>79996</td>\n",
       "      <td>Foggy</td>\n",
       "      <td>rain</td>\n",
       "      <td>39</td>\n",
       "      <td>31.0</td>\n",
       "      <td>0.243553</td>\n",
       "      <td>19.0</td>\n",
       "      <td>347.0</td>\n",
       "      <td>14.0</td>\n",
       "      <td>1013.0</td>\n",
       "      <td>Frost</td>\n",
       "      <td>1269</td>\n",
       "    </tr>\n",
       "    <tr>\n",
       "      <th>71424</th>\n",
       "      <td>79997</td>\n",
       "      <td>Foggy</td>\n",
       "      <td>rain</td>\n",
       "      <td>8</td>\n",
       "      <td>4.0</td>\n",
       "      <td>0.913108</td>\n",
       "      <td>1.0</td>\n",
       "      <td>101.0</td>\n",
       "      <td>8.0</td>\n",
       "      <td>1031.0</td>\n",
       "      <td>Dry</td>\n",
       "      <td>1224</td>\n",
       "    </tr>\n",
       "    <tr>\n",
       "      <th>71425</th>\n",
       "      <td>79998</td>\n",
       "      <td>Mostly Cloudy</td>\n",
       "      <td>rain</td>\n",
       "      <td>28</td>\n",
       "      <td>-22.0</td>\n",
       "      <td>0.496076</td>\n",
       "      <td>2.0</td>\n",
       "      <td>149.0</td>\n",
       "      <td>7.0</td>\n",
       "      <td>1032.0</td>\n",
       "      <td>Frost</td>\n",
       "      <td>1463</td>\n",
       "    </tr>\n",
       "    <tr>\n",
       "      <th>71426</th>\n",
       "      <td>79999</td>\n",
       "      <td>Mostly Cloudy</td>\n",
       "      <td>rain</td>\n",
       "      <td>-16</td>\n",
       "      <td>-3.0</td>\n",
       "      <td>0.783161</td>\n",
       "      <td>44.0</td>\n",
       "      <td>266.0</td>\n",
       "      <td>11.0</td>\n",
       "      <td>1019.0</td>\n",
       "      <td>Fog</td>\n",
       "      <td>1251</td>\n",
       "    </tr>\n",
       "    <tr>\n",
       "      <th>71427</th>\n",
       "      <td>80000</td>\n",
       "      <td>Mostly Cloudy</td>\n",
       "      <td>rain</td>\n",
       "      <td>-15</td>\n",
       "      <td>8.0</td>\n",
       "      <td>0.191555</td>\n",
       "      <td>38.0</td>\n",
       "      <td>154.0</td>\n",
       "      <td>6.0</td>\n",
       "      <td>1023.0</td>\n",
       "      <td>Fog</td>\n",
       "      <td>1258</td>\n",
       "    </tr>\n",
       "  </tbody>\n",
       "</table>\n",
       "</div>"
      ],
      "text/plain": [
       "         Day Cloud_Condition Rain_OR_SNOW Temperature (C)  \\\n",
       "71423  79996           Foggy         rain              39   \n",
       "71424  79997           Foggy         rain               8   \n",
       "71425  79998   Mostly Cloudy         rain              28   \n",
       "71426  79999   Mostly Cloudy         rain             -16   \n",
       "71427  80000   Mostly Cloudy         rain             -15   \n",
       "\n",
       "       Apparent Temperature (C)  Humidity  Wind Speed (km/h)  \\\n",
       "71423                      31.0  0.243553               19.0   \n",
       "71424                       4.0  0.913108                1.0   \n",
       "71425                     -22.0  0.496076                2.0   \n",
       "71426                      -3.0  0.783161               44.0   \n",
       "71427                       8.0  0.191555               38.0   \n",
       "\n",
       "       Wind Bearing (degrees)  Visibility (km)  Pressure (millibars)  \\\n",
       "71423                   347.0             14.0                1013.0   \n",
       "71424                   101.0              8.0                1031.0   \n",
       "71425                   149.0              7.0                1032.0   \n",
       "71426                   266.0             11.0                1019.0   \n",
       "71427                   154.0              6.0                1023.0   \n",
       "\n",
       "      Condensation  Solar irradiance intensity  \n",
       "71423        Frost                        1269  \n",
       "71424          Dry                        1224  \n",
       "71425        Frost                        1463  \n",
       "71426          Fog                        1251  \n",
       "71427          Fog                        1258  "
      ]
     },
     "execution_count": 215,
     "metadata": {},
     "output_type": "execute_result"
    }
   ],
   "source": [
    "raw_data.tail()"
   ]
  },
  {
   "cell_type": "code",
   "execution_count": 216,
   "metadata": {},
   "outputs": [
    {
     "data": {
      "text/plain": [
       "Index(['Day', 'Cloud_Condition', 'Rain_OR_SNOW', 'Temperature (C)',\n",
       "       'Apparent Temperature (C)', 'Humidity', 'Wind Speed (km/h)',\n",
       "       'Wind Bearing (degrees)', 'Visibility (km)', 'Pressure (millibars)',\n",
       "       'Condensation', 'Solar irradiance intensity'],\n",
       "      dtype='object')"
      ]
     },
     "execution_count": 216,
     "metadata": {},
     "output_type": "execute_result"
    }
   ],
   "source": [
    "raw_data.columns"
   ]
  },
  {
   "cell_type": "code",
   "execution_count": 217,
   "metadata": {},
   "outputs": [
    {
     "data": {
      "text/plain": [
       "Day                             int64\n",
       "Cloud_Condition                object\n",
       "Rain_OR_SNOW                   object\n",
       "Temperature (C)                object\n",
       "Apparent Temperature (C)      float64\n",
       "Humidity                      float64\n",
       "Wind Speed (km/h)             float64\n",
       "Wind Bearing (degrees)        float64\n",
       "Visibility (km)               float64\n",
       "Pressure (millibars)          float64\n",
       "Condensation                   object\n",
       "Solar irradiance intensity      int64\n",
       "dtype: object"
      ]
     },
     "execution_count": 217,
     "metadata": {},
     "output_type": "execute_result"
    }
   ],
   "source": [
    "raw_data.dtypes"
   ]
  },
  {
   "cell_type": "markdown",
   "metadata": {},
   "source": [
    "**Data Description**\n",
    "\n",
    "1. Day variable specifies the day of weather conditions, however it is not continous(Not all days are mentioned). Hence, for now lets start by dropping the Day variable, we might later do changes\n",
    "\n",
    "2. Cloud_condition is the independent (Y) variable. It is a discrete variable, hence we conclude that we have labelled data to go forward with supervised form of learning(Classification)\n",
    "\n",
    "3. 'Rain_OR_SNOW', 'Temperature (C)', 'Apparent Temperature (C)', 'Humidity', 'Wind Speed (km/h)', 'Wind Bearing (degrees)', 'Visibility (km)', 'Pressure (millibars)', 'Condensation' and 'Solar irradiance intensity' are dependent(X) variables.\n",
    "\n",
    "4. Out of the X variables, 'Rain_OR_SNOW' and 'Condensation' are categorical and rest are numerical {Note: 'Temperature (C)' will be converted to int later}\n",
    "\n"
   ]
  },
  {
   "cell_type": "markdown",
   "metadata": {},
   "source": [
    "### Data Cleanup and Exploratory Data Analysis"
   ]
  },
  {
   "cell_type": "code",
   "execution_count": 218,
   "metadata": {},
   "outputs": [
    {
     "data": {
      "text/html": [
       "<div>\n",
       "<style scoped>\n",
       "    .dataframe tbody tr th:only-of-type {\n",
       "        vertical-align: middle;\n",
       "    }\n",
       "\n",
       "    .dataframe tbody tr th {\n",
       "        vertical-align: top;\n",
       "    }\n",
       "\n",
       "    .dataframe thead th {\n",
       "        text-align: right;\n",
       "    }\n",
       "</style>\n",
       "<table border=\"1\" class=\"dataframe\">\n",
       "  <thead>\n",
       "    <tr style=\"text-align: right;\">\n",
       "      <th></th>\n",
       "      <th>Day</th>\n",
       "      <th>Cloud_Condition</th>\n",
       "      <th>Rain_OR_SNOW</th>\n",
       "      <th>Temperature (C)</th>\n",
       "      <th>Apparent Temperature (C)</th>\n",
       "      <th>Humidity</th>\n",
       "      <th>Wind Speed (km/h)</th>\n",
       "      <th>Wind Bearing (degrees)</th>\n",
       "      <th>Visibility (km)</th>\n",
       "      <th>Pressure (millibars)</th>\n",
       "      <th>Condensation</th>\n",
       "      <th>Solar irradiance intensity</th>\n",
       "    </tr>\n",
       "  </thead>\n",
       "  <tbody>\n",
       "  </tbody>\n",
       "</table>\n",
       "</div>"
      ],
      "text/plain": [
       "Empty DataFrame\n",
       "Columns: [Day, Cloud_Condition, Rain_OR_SNOW, Temperature (C), Apparent Temperature (C), Humidity, Wind Speed (km/h), Wind Bearing (degrees), Visibility (km), Pressure (millibars), Condensation, Solar irradiance intensity]\n",
       "Index: []"
      ]
     },
     "execution_count": 218,
     "metadata": {},
     "output_type": "execute_result"
    }
   ],
   "source": [
    "raw_data_dup = raw_data[raw_data.duplicated()]\n",
    "raw_data_dup"
   ]
  },
  {
   "cell_type": "markdown",
   "metadata": {},
   "source": [
    "There are no duplicates"
   ]
  },
  {
   "cell_type": "code",
   "execution_count": 219,
   "metadata": {},
   "outputs": [],
   "source": [
    "raw_data = raw_data.iloc[:, 1:] "
   ]
  },
  {
   "cell_type": "code",
   "execution_count": 220,
   "metadata": {},
   "outputs": [
    {
     "data": {
      "text/html": [
       "<div>\n",
       "<style scoped>\n",
       "    .dataframe tbody tr th:only-of-type {\n",
       "        vertical-align: middle;\n",
       "    }\n",
       "\n",
       "    .dataframe tbody tr th {\n",
       "        vertical-align: top;\n",
       "    }\n",
       "\n",
       "    .dataframe thead th {\n",
       "        text-align: right;\n",
       "    }\n",
       "</style>\n",
       "<table border=\"1\" class=\"dataframe\">\n",
       "  <thead>\n",
       "    <tr style=\"text-align: right;\">\n",
       "      <th></th>\n",
       "      <th>Cloud_Condition</th>\n",
       "      <th>Rain_OR_SNOW</th>\n",
       "      <th>Temperature (C)</th>\n",
       "      <th>Apparent Temperature (C)</th>\n",
       "      <th>Humidity</th>\n",
       "      <th>Wind Speed (km/h)</th>\n",
       "      <th>Wind Bearing (degrees)</th>\n",
       "      <th>Visibility (km)</th>\n",
       "      <th>Pressure (millibars)</th>\n",
       "      <th>Condensation</th>\n",
       "      <th>Solar irradiance intensity</th>\n",
       "    </tr>\n",
       "  </thead>\n",
       "  <tbody>\n",
       "    <tr>\n",
       "      <th>0</th>\n",
       "      <td>Partly Cloudy</td>\n",
       "      <td>rain</td>\n",
       "      <td>-13</td>\n",
       "      <td>-19.0</td>\n",
       "      <td>0.134364</td>\n",
       "      <td>17.0</td>\n",
       "      <td>68.0</td>\n",
       "      <td>4.0</td>\n",
       "      <td>1008.0</td>\n",
       "      <td>Frost</td>\n",
       "      <td>1068</td>\n",
       "    </tr>\n",
       "    <tr>\n",
       "      <th>1</th>\n",
       "      <td>Partly Cloudy</td>\n",
       "      <td>rain</td>\n",
       "      <td>15</td>\n",
       "      <td>5.0</td>\n",
       "      <td>0.847434</td>\n",
       "      <td>8.0</td>\n",
       "      <td>291.0</td>\n",
       "      <td>2.0</td>\n",
       "      <td>1036.0</td>\n",
       "      <td>Frost</td>\n",
       "      <td>1291</td>\n",
       "    </tr>\n",
       "  </tbody>\n",
       "</table>\n",
       "</div>"
      ],
      "text/plain": [
       "  Cloud_Condition Rain_OR_SNOW Temperature (C)  Apparent Temperature (C)  \\\n",
       "0   Partly Cloudy         rain             -13                     -19.0   \n",
       "1   Partly Cloudy         rain              15                       5.0   \n",
       "\n",
       "   Humidity  Wind Speed (km/h)  Wind Bearing (degrees)  Visibility (km)  \\\n",
       "0  0.134364               17.0                    68.0              4.0   \n",
       "1  0.847434                8.0                   291.0              2.0   \n",
       "\n",
       "   Pressure (millibars) Condensation  Solar irradiance intensity  \n",
       "0                1008.0        Frost                        1068  \n",
       "1                1036.0        Frost                        1291  "
      ]
     },
     "execution_count": 220,
     "metadata": {},
     "output_type": "execute_result"
    }
   ],
   "source": [
    "raw_data.head(2)"
   ]
  },
  {
   "cell_type": "code",
   "execution_count": 221,
   "metadata": {},
   "outputs": [
    {
     "data": {
      "text/html": [
       "<div>\n",
       "<style scoped>\n",
       "    .dataframe tbody tr th:only-of-type {\n",
       "        vertical-align: middle;\n",
       "    }\n",
       "\n",
       "    .dataframe tbody tr th {\n",
       "        vertical-align: top;\n",
       "    }\n",
       "\n",
       "    .dataframe thead th {\n",
       "        text-align: right;\n",
       "    }\n",
       "</style>\n",
       "<table border=\"1\" class=\"dataframe\">\n",
       "  <thead>\n",
       "    <tr style=\"text-align: right;\">\n",
       "      <th></th>\n",
       "      <th>Cloud_Condition</th>\n",
       "      <th>Rain_OR_SNOW</th>\n",
       "      <th>Temperature (C)</th>\n",
       "      <th>Apparent Temperature (C)</th>\n",
       "      <th>Humidity</th>\n",
       "      <th>Wind Speed (km/h)</th>\n",
       "      <th>Wind Bearing (degrees)</th>\n",
       "      <th>Visibility (km)</th>\n",
       "      <th>Pressure (millibars)</th>\n",
       "      <th>Condensation</th>\n",
       "      <th>Solar irradiance intensity</th>\n",
       "    </tr>\n",
       "  </thead>\n",
       "  <tbody>\n",
       "    <tr>\n",
       "      <th>71426</th>\n",
       "      <td>Mostly Cloudy</td>\n",
       "      <td>rain</td>\n",
       "      <td>-16</td>\n",
       "      <td>-3.0</td>\n",
       "      <td>0.783161</td>\n",
       "      <td>44.0</td>\n",
       "      <td>266.0</td>\n",
       "      <td>11.0</td>\n",
       "      <td>1019.0</td>\n",
       "      <td>Fog</td>\n",
       "      <td>1251</td>\n",
       "    </tr>\n",
       "    <tr>\n",
       "      <th>71427</th>\n",
       "      <td>Mostly Cloudy</td>\n",
       "      <td>rain</td>\n",
       "      <td>-15</td>\n",
       "      <td>8.0</td>\n",
       "      <td>0.191555</td>\n",
       "      <td>38.0</td>\n",
       "      <td>154.0</td>\n",
       "      <td>6.0</td>\n",
       "      <td>1023.0</td>\n",
       "      <td>Fog</td>\n",
       "      <td>1258</td>\n",
       "    </tr>\n",
       "  </tbody>\n",
       "</table>\n",
       "</div>"
      ],
      "text/plain": [
       "      Cloud_Condition Rain_OR_SNOW Temperature (C)  Apparent Temperature (C)  \\\n",
       "71426   Mostly Cloudy         rain             -16                      -3.0   \n",
       "71427   Mostly Cloudy         rain             -15                       8.0   \n",
       "\n",
       "       Humidity  Wind Speed (km/h)  Wind Bearing (degrees)  Visibility (km)  \\\n",
       "71426  0.783161               44.0                   266.0             11.0   \n",
       "71427  0.191555               38.0                   154.0              6.0   \n",
       "\n",
       "       Pressure (millibars) Condensation  Solar irradiance intensity  \n",
       "71426                1019.0          Fog                        1251  \n",
       "71427                1023.0          Fog                        1258  "
      ]
     },
     "execution_count": 221,
     "metadata": {},
     "output_type": "execute_result"
    }
   ],
   "source": [
    "raw_data.tail(2)"
   ]
  },
  {
   "cell_type": "code",
   "execution_count": 222,
   "metadata": {},
   "outputs": [],
   "source": [
    "# raw_data[\"Temperature (C)\"] = raw_data[\"Temperature (C)\"].astype(float)"
   ]
  },
  {
   "cell_type": "code",
   "execution_count": 223,
   "metadata": {},
   "outputs": [
    {
     "data": {
      "text/html": [
       "<div>\n",
       "<style scoped>\n",
       "    .dataframe tbody tr th:only-of-type {\n",
       "        vertical-align: middle;\n",
       "    }\n",
       "\n",
       "    .dataframe tbody tr th {\n",
       "        vertical-align: top;\n",
       "    }\n",
       "\n",
       "    .dataframe thead th {\n",
       "        text-align: right;\n",
       "    }\n",
       "</style>\n",
       "<table border=\"1\" class=\"dataframe\">\n",
       "  <thead>\n",
       "    <tr style=\"text-align: right;\">\n",
       "      <th></th>\n",
       "      <th>Apparent Temperature (C)</th>\n",
       "      <th>Humidity</th>\n",
       "      <th>Wind Speed (km/h)</th>\n",
       "      <th>Wind Bearing (degrees)</th>\n",
       "      <th>Visibility (km)</th>\n",
       "      <th>Pressure (millibars)</th>\n",
       "      <th>Solar irradiance intensity</th>\n",
       "    </tr>\n",
       "  </thead>\n",
       "  <tbody>\n",
       "    <tr>\n",
       "      <th>count</th>\n",
       "      <td>71425.000000</td>\n",
       "      <td>71427.000000</td>\n",
       "      <td>71426.000000</td>\n",
       "      <td>71391.000000</td>\n",
       "      <td>71408.000000</td>\n",
       "      <td>71363.000000</td>\n",
       "      <td>71428.000000</td>\n",
       "    </tr>\n",
       "    <tr>\n",
       "      <th>mean</th>\n",
       "      <td>5.550606</td>\n",
       "      <td>0.501020</td>\n",
       "      <td>31.525831</td>\n",
       "      <td>179.221793</td>\n",
       "      <td>8.014606</td>\n",
       "      <td>1022.980606</td>\n",
       "      <td>1249.736546</td>\n",
       "    </tr>\n",
       "    <tr>\n",
       "      <th>std</th>\n",
       "      <td>19.093822</td>\n",
       "      <td>0.289431</td>\n",
       "      <td>18.507098</td>\n",
       "      <td>103.729210</td>\n",
       "      <td>4.907893</td>\n",
       "      <td>13.559828</td>\n",
       "      <td>144.828721</td>\n",
       "    </tr>\n",
       "    <tr>\n",
       "      <th>min</th>\n",
       "      <td>-27.000000</td>\n",
       "      <td>0.000019</td>\n",
       "      <td>0.000000</td>\n",
       "      <td>0.000000</td>\n",
       "      <td>0.000000</td>\n",
       "      <td>1000.000000</td>\n",
       "      <td>1000.000000</td>\n",
       "    </tr>\n",
       "    <tr>\n",
       "      <th>25%</th>\n",
       "      <td>-11.000000</td>\n",
       "      <td>0.249233</td>\n",
       "      <td>16.000000</td>\n",
       "      <td>89.000000</td>\n",
       "      <td>4.000000</td>\n",
       "      <td>1011.000000</td>\n",
       "      <td>1124.000000</td>\n",
       "    </tr>\n",
       "    <tr>\n",
       "      <th>50%</th>\n",
       "      <td>5.000000</td>\n",
       "      <td>0.501461</td>\n",
       "      <td>31.000000</td>\n",
       "      <td>180.000000</td>\n",
       "      <td>8.000000</td>\n",
       "      <td>1023.000000</td>\n",
       "      <td>1249.000000</td>\n",
       "    </tr>\n",
       "    <tr>\n",
       "      <th>75%</th>\n",
       "      <td>22.000000</td>\n",
       "      <td>0.751978</td>\n",
       "      <td>48.000000</td>\n",
       "      <td>269.000000</td>\n",
       "      <td>12.000000</td>\n",
       "      <td>1035.000000</td>\n",
       "      <td>1375.000000</td>\n",
       "    </tr>\n",
       "    <tr>\n",
       "      <th>max</th>\n",
       "      <td>38.000000</td>\n",
       "      <td>0.999990</td>\n",
       "      <td>63.000000</td>\n",
       "      <td>359.000000</td>\n",
       "      <td>16.000000</td>\n",
       "      <td>1046.000000</td>\n",
       "      <td>1500.000000</td>\n",
       "    </tr>\n",
       "  </tbody>\n",
       "</table>\n",
       "</div>"
      ],
      "text/plain": [
       "       Apparent Temperature (C)      Humidity  Wind Speed (km/h)  \\\n",
       "count              71425.000000  71427.000000       71426.000000   \n",
       "mean                   5.550606      0.501020          31.525831   \n",
       "std                   19.093822      0.289431          18.507098   \n",
       "min                  -27.000000      0.000019           0.000000   \n",
       "25%                  -11.000000      0.249233          16.000000   \n",
       "50%                    5.000000      0.501461          31.000000   \n",
       "75%                   22.000000      0.751978          48.000000   \n",
       "max                   38.000000      0.999990          63.000000   \n",
       "\n",
       "       Wind Bearing (degrees)  Visibility (km)  Pressure (millibars)  \\\n",
       "count            71391.000000     71408.000000          71363.000000   \n",
       "mean               179.221793         8.014606           1022.980606   \n",
       "std                103.729210         4.907893             13.559828   \n",
       "min                  0.000000         0.000000           1000.000000   \n",
       "25%                 89.000000         4.000000           1011.000000   \n",
       "50%                180.000000         8.000000           1023.000000   \n",
       "75%                269.000000        12.000000           1035.000000   \n",
       "max                359.000000        16.000000           1046.000000   \n",
       "\n",
       "       Solar irradiance intensity  \n",
       "count                71428.000000  \n",
       "mean                  1249.736546  \n",
       "std                    144.828721  \n",
       "min                   1000.000000  \n",
       "25%                   1124.000000  \n",
       "50%                   1249.000000  \n",
       "75%                   1375.000000  \n",
       "max                   1500.000000  "
      ]
     },
     "execution_count": 223,
     "metadata": {},
     "output_type": "execute_result"
    }
   ],
   "source": [
    "raw_data.describe()"
   ]
  },
  {
   "cell_type": "markdown",
   "metadata": {},
   "source": [
    "1. Seems that there are some missing values in the data \n",
    "2. Temperature variable has some string values"
   ]
  },
  {
   "cell_type": "code",
   "execution_count": 224,
   "metadata": {},
   "outputs": [
    {
     "data": {
      "text/plain": [
       "array(['-13', '15', '33', '30', '27', '-17', '-5', '-14', '10', '7', '9',\n",
       "       '20', '3', '29', '-8', '-15', '-20', '36', '32', '6', '17', '28',\n",
       "       '-21', '23', '-4', '25', '-7', '16', '39', '-1', '13', '35', '22',\n",
       "       '12', '14', '1', '8', '-3', '38', '5', '37', '-10', '19', '34',\n",
       "       '26', '0', '24', '11', '21', '-9', '-2', '4', '-19', '-6', '2',\n",
       "       '-16', '-11', '18', '31', '-18', '-12', nan, '-', 16, 30, 17, -13,\n",
       "       36, 4, 9, 10, 13, 27, -8, -16, 34, 2, -11, -9, -10, -5, 39, 14, 7,\n",
       "       20, -3, 15, 24, 35, 25, -12, 26, -14, 19, 5, 38, -4, -17, 0, 8, 21,\n",
       "       -20, -21, 37, 22, 11, 28, 12, -18, 29, 1, -2, -7, -6, 33, 3, 32,\n",
       "       -1, 6, -15, 18, 23, 31, -19], dtype=object)"
      ]
     },
     "execution_count": 224,
     "metadata": {},
     "output_type": "execute_result"
    }
   ],
   "source": [
    "raw_data[\"Temperature (C)\"].unique()"
   ]
  },
  {
   "cell_type": "code",
   "execution_count": 225,
   "metadata": {},
   "outputs": [],
   "source": [
    "raw_data[\"Temperature (C)\"].replace('-', np.nan, inplace = True)\n",
    "raw_data[\"Temperature (C)\"] = raw_data[\"Temperature (C)\"].astype(float)"
   ]
  },
  {
   "cell_type": "code",
   "execution_count": 226,
   "metadata": {},
   "outputs": [
    {
     "data": {
      "text/plain": [
       "array([-13.,  15.,  33.,  30.,  27., -17.,  -5., -14.,  10.,   7.,   9.,\n",
       "        20.,   3.,  29.,  -8., -15., -20.,  36.,  32.,   6.,  17.,  28.,\n",
       "       -21.,  23.,  -4.,  25.,  -7.,  16.,  39.,  -1.,  13.,  35.,  22.,\n",
       "        12.,  14.,   1.,   8.,  -3.,  38.,   5.,  37., -10.,  19.,  34.,\n",
       "        26.,   0.,  24.,  11.,  21.,  -9.,  -2.,   4., -19.,  -6.,   2.,\n",
       "       -16., -11.,  18.,  31., -18., -12.,  nan])"
      ]
     },
     "execution_count": 226,
     "metadata": {},
     "output_type": "execute_result"
    }
   ],
   "source": [
    "raw_data[\"Temperature (C)\"].unique()"
   ]
  },
  {
   "cell_type": "code",
   "execution_count": 227,
   "metadata": {},
   "outputs": [
    {
     "data": {
      "text/plain": [
       "Cloud_Condition                 0\n",
       "Rain_OR_SNOW                  115\n",
       "Temperature (C)               253\n",
       "Apparent Temperature (C)        3\n",
       "Humidity                        1\n",
       "Wind Speed (km/h)               2\n",
       "Wind Bearing (degrees)         37\n",
       "Visibility (km)                20\n",
       "Pressure (millibars)           65\n",
       "Condensation                    0\n",
       "Solar irradiance intensity      0\n",
       "dtype: int64"
      ]
     },
     "execution_count": 227,
     "metadata": {},
     "output_type": "execute_result"
    }
   ],
   "source": [
    "raw_data.isnull().sum()"
   ]
  },
  {
   "cell_type": "code",
   "execution_count": 228,
   "metadata": {},
   "outputs": [],
   "source": [
    "raw_data = raw_data.dropna()"
   ]
  },
  {
   "cell_type": "code",
   "execution_count": 229,
   "metadata": {},
   "outputs": [
    {
     "data": {
      "text/plain": [
       "(70938, 11)"
      ]
     },
     "execution_count": 229,
     "metadata": {},
     "output_type": "execute_result"
    }
   ],
   "source": [
    "raw_data.shape"
   ]
  },
  {
   "cell_type": "code",
   "execution_count": 230,
   "metadata": {},
   "outputs": [],
   "source": [
    "#List Of categorical Columns and Numerical Columns(Except target variable)\n",
    "cat=[]\n",
    "num=[]\n",
    "for x in raw_data.columns[1:]:\n",
    "    if raw_data[x].dtype==\"object\":\n",
    "        cat.append(x)\n",
    "    else:\n",
    "        num.append(x)"
   ]
  },
  {
   "cell_type": "code",
   "execution_count": 231,
   "metadata": {},
   "outputs": [],
   "source": [
    "from sklearn import preprocessing\n",
    "\n",
    "le = preprocessing.LabelEncoder()\n",
    "\n",
    "for x in cat:\n",
    "    raw_data[x]=le.fit_transform(raw_data[x])"
   ]
  },
  {
   "cell_type": "code",
   "execution_count": 232,
   "metadata": {},
   "outputs": [
    {
     "data": {
      "text/html": [
       "<div>\n",
       "<style scoped>\n",
       "    .dataframe tbody tr th:only-of-type {\n",
       "        vertical-align: middle;\n",
       "    }\n",
       "\n",
       "    .dataframe tbody tr th {\n",
       "        vertical-align: top;\n",
       "    }\n",
       "\n",
       "    .dataframe thead th {\n",
       "        text-align: right;\n",
       "    }\n",
       "</style>\n",
       "<table border=\"1\" class=\"dataframe\">\n",
       "  <thead>\n",
       "    <tr style=\"text-align: right;\">\n",
       "      <th></th>\n",
       "      <th>Cloud_Condition</th>\n",
       "      <th>Rain_OR_SNOW</th>\n",
       "      <th>Temperature (C)</th>\n",
       "      <th>Apparent Temperature (C)</th>\n",
       "      <th>Humidity</th>\n",
       "      <th>Wind Speed (km/h)</th>\n",
       "      <th>Wind Bearing (degrees)</th>\n",
       "      <th>Visibility (km)</th>\n",
       "      <th>Pressure (millibars)</th>\n",
       "      <th>Condensation</th>\n",
       "      <th>Solar irradiance intensity</th>\n",
       "    </tr>\n",
       "  </thead>\n",
       "  <tbody>\n",
       "    <tr>\n",
       "      <th>0</th>\n",
       "      <td>Partly Cloudy</td>\n",
       "      <td>0</td>\n",
       "      <td>-13.0</td>\n",
       "      <td>-19.0</td>\n",
       "      <td>0.134364</td>\n",
       "      <td>17.0</td>\n",
       "      <td>68.0</td>\n",
       "      <td>4.0</td>\n",
       "      <td>1008.0</td>\n",
       "      <td>2</td>\n",
       "      <td>1068</td>\n",
       "    </tr>\n",
       "    <tr>\n",
       "      <th>1</th>\n",
       "      <td>Partly Cloudy</td>\n",
       "      <td>0</td>\n",
       "      <td>15.0</td>\n",
       "      <td>5.0</td>\n",
       "      <td>0.847434</td>\n",
       "      <td>8.0</td>\n",
       "      <td>291.0</td>\n",
       "      <td>2.0</td>\n",
       "      <td>1036.0</td>\n",
       "      <td>2</td>\n",
       "      <td>1291</td>\n",
       "    </tr>\n",
       "    <tr>\n",
       "      <th>2</th>\n",
       "      <td>Partly Cloudy</td>\n",
       "      <td>0</td>\n",
       "      <td>33.0</td>\n",
       "      <td>-12.0</td>\n",
       "      <td>0.763775</td>\n",
       "      <td>32.0</td>\n",
       "      <td>32.0</td>\n",
       "      <td>8.0</td>\n",
       "      <td>1004.0</td>\n",
       "      <td>0</td>\n",
       "      <td>1433</td>\n",
       "    </tr>\n",
       "    <tr>\n",
       "      <th>3</th>\n",
       "      <td>Partly Cloudy</td>\n",
       "      <td>1</td>\n",
       "      <td>30.0</td>\n",
       "      <td>36.0</td>\n",
       "      <td>0.255069</td>\n",
       "      <td>15.0</td>\n",
       "      <td>130.0</td>\n",
       "      <td>3.0</td>\n",
       "      <td>1016.0</td>\n",
       "      <td>0</td>\n",
       "      <td>1410</td>\n",
       "    </tr>\n",
       "    <tr>\n",
       "      <th>4</th>\n",
       "      <td>Partly Cloudy</td>\n",
       "      <td>1</td>\n",
       "      <td>27.0</td>\n",
       "      <td>30.0</td>\n",
       "      <td>0.495435</td>\n",
       "      <td>63.0</td>\n",
       "      <td>60.0</td>\n",
       "      <td>15.0</td>\n",
       "      <td>1007.0</td>\n",
       "      <td>1</td>\n",
       "      <td>1391</td>\n",
       "    </tr>\n",
       "  </tbody>\n",
       "</table>\n",
       "</div>"
      ],
      "text/plain": [
       "  Cloud_Condition  Rain_OR_SNOW  Temperature (C)  Apparent Temperature (C)  \\\n",
       "0   Partly Cloudy             0            -13.0                     -19.0   \n",
       "1   Partly Cloudy             0             15.0                       5.0   \n",
       "2   Partly Cloudy             0             33.0                     -12.0   \n",
       "3   Partly Cloudy             1             30.0                      36.0   \n",
       "4   Partly Cloudy             1             27.0                      30.0   \n",
       "\n",
       "   Humidity  Wind Speed (km/h)  Wind Bearing (degrees)  Visibility (km)  \\\n",
       "0  0.134364               17.0                    68.0              4.0   \n",
       "1  0.847434                8.0                   291.0              2.0   \n",
       "2  0.763775               32.0                    32.0              8.0   \n",
       "3  0.255069               15.0                   130.0              3.0   \n",
       "4  0.495435               63.0                    60.0             15.0   \n",
       "\n",
       "   Pressure (millibars)  Condensation  Solar irradiance intensity  \n",
       "0                1008.0             2                        1068  \n",
       "1                1036.0             2                        1291  \n",
       "2                1004.0             0                        1433  \n",
       "3                1016.0             0                        1410  \n",
       "4                1007.0             1                        1391  "
      ]
     },
     "execution_count": 232,
     "metadata": {},
     "output_type": "execute_result"
    }
   ],
   "source": [
    "raw_data.head()"
   ]
  },
  {
   "cell_type": "code",
   "execution_count": 233,
   "metadata": {},
   "outputs": [
    {
     "data": {
      "text/plain": [
       "Cloud_Condition                object\n",
       "Rain_OR_SNOW                    int32\n",
       "Temperature (C)               float64\n",
       "Apparent Temperature (C)      float64\n",
       "Humidity                      float64\n",
       "Wind Speed (km/h)             float64\n",
       "Wind Bearing (degrees)        float64\n",
       "Visibility (km)               float64\n",
       "Pressure (millibars)          float64\n",
       "Condensation                    int32\n",
       "Solar irradiance intensity      int64\n",
       "dtype: object"
      ]
     },
     "execution_count": 233,
     "metadata": {},
     "output_type": "execute_result"
    }
   ],
   "source": [
    "raw_data.dtypes"
   ]
  },
  {
   "cell_type": "code",
   "execution_count": 234,
   "metadata": {},
   "outputs": [
    {
     "data": {
      "text/plain": [
       "Mostly Cloudy                          21860\n",
       "Partly Cloudy                          17526\n",
       "Overcast                               13506\n",
       "Clear                                   9648\n",
       "Foggy                                   5871\n",
       "Breezy and Dry                           630\n",
       "Breezy and Mostly Cloudy                 467\n",
       "Breezy and Overcast                      452\n",
       "Breezy and Partly Cloudy                 350\n",
       "Light Rain                               209\n",
       "Dry and Partly Cloudy                     86\n",
       "Windy and Partly Cloudy                   63\n",
       "Breezy                                    45\n",
       "Windy and Overcast                        42\n",
       "Dry                                       34\n",
       "Breezy and Foggy                          34\n",
       "Humid and Mostly Cloudy                   32\n",
       "Windy and Mostly Cloudy                   32\n",
       "Humid and Partly Cloudy                   17\n",
       "Dry and Mostly Cloudy                     14\n",
       "Humid and Overcast                         5\n",
       "Windy                                      5\n",
       "Drizzle                                    5\n",
       "Windy and Foggy                            3\n",
       "Dangerously Windy and Partly Cloudy        1\n",
       "Windy and Dry                              1\n",
       "Name: Cloud_Condition, dtype: int64"
      ]
     },
     "execution_count": 234,
     "metadata": {},
     "output_type": "execute_result"
    }
   ],
   "source": [
    "raw_data[\"Cloud_Condition\"].value_counts()"
   ]
  },
  {
   "cell_type": "code",
   "execution_count": 235,
   "metadata": {},
   "outputs": [],
   "source": [
    "# raw_data['Cloud_Condition'].replace(\"Breezy\",\"Unknown\",inplace = True)\n",
    "# raw_data['Cloud_Condition'].replace(\"Breezy and Dry\",\"Unknown\",inplace = True)\n",
    "# raw_data['Cloud_Condition'].replace(\"Breezy and Foggy\",\"Unknown\",inplace = True)\n",
    "# raw_data['Cloud_Condition'].replace(\"Breezy and Mostly Cloudy\",\"Unknown\",inplace = True)\n",
    "# raw_data['Cloud_Condition'].replace(\"Breezy and Overcast\",\"Unknown\",inplace = True)\n",
    "# raw_data['Cloud_Condition'].replace(\"Breezy and Partly Cloudy\",\"Unknown\",inplace = True)\n",
    "# raw_data['Cloud_Condition'].replace(\"Clear\",\"Clear\",inplace = True)\n",
    "# raw_data['Cloud_Condition'].replace(\"Dangerously Windy and Partly Cloudy\",\"Unknown\",inplace = True)\n",
    "# raw_data['Cloud_Condition'].replace(\"Drizzle\",\"Unknown\",inplace = True)\n",
    "# raw_data['Cloud_Condition'].replace(\"Dry\",\"Unknown\",inplace = True)\n",
    "# raw_data['Cloud_Condition'].replace(\"Dry and Mostly Cloudy\",\"Unknown\",inplace = True)\n",
    "# raw_data['Cloud_Condition'].replace(\"Dry and Partly Cloudy\",\"Unknown\",inplace = True)\n",
    "# raw_data['Cloud_Condition'].replace(\"Foggy\",\"Foggy\",inplace = True)\n",
    "# raw_data['Cloud_Condition'].replace(\"Humid and Mostly Cloudy\",\"Unknown\",inplace = True)\n",
    "# raw_data['Cloud_Condition'].replace(\"Humid and Overcast\",\"Unknown\",inplace = True)\n",
    "# raw_data['Cloud_Condition'].replace(\"Humid and Partly Cloudy\",\"Unknown\",inplace = True)\n",
    "# raw_data['Cloud_Condition'].replace(\"Light Rain\",\"Unknown\",inplace = True)\n",
    "# raw_data['Cloud_Condition'].replace(\"Mostly Cloudy\",\"Mostly Cloudy\",inplace = True)\n",
    "# raw_data['Cloud_Condition'].replace(\"Overcast\",\"Overcast\",inplace = True)\n",
    "# raw_data['Cloud_Condition'].replace(\"Partly Cloudy\",\"Partly Cloudy\",inplace = True)\n",
    "# raw_data['Cloud_Condition'].replace(\"Windy\",\"Unknown\",inplace = True)\n",
    "# raw_data['Cloud_Condition'].replace(\"Windy and Dry\",\"Unknown\",inplace = True)\n",
    "# raw_data['Cloud_Condition'].replace(\"Windy and Foggy\",\"Unknown\",inplace = True)\n",
    "# raw_data['Cloud_Condition'].replace(\"Windy and Mostly Cloudy\",\"Unknown\",inplace = True)\n",
    "# raw_data['Cloud_Condition'].replace(\"Windy and Overcast\",\"Unknown\",inplace = True)\n",
    "# raw_data['Cloud_Condition'].replace(\"Windy and Partly Cloudy\",\"Unknown\",inplace = True)"
   ]
  },
  {
   "cell_type": "code",
   "execution_count": null,
   "metadata": {},
   "outputs": [],
   "source": []
  },
  {
   "cell_type": "code",
   "execution_count": null,
   "metadata": {},
   "outputs": [],
   "source": []
  },
  {
   "cell_type": "code",
   "execution_count": null,
   "metadata": {},
   "outputs": [],
   "source": []
  },
  {
   "cell_type": "code",
   "execution_count": 236,
   "metadata": {},
   "outputs": [],
   "source": [
    "working_data = raw_data"
   ]
  },
  {
   "cell_type": "code",
   "execution_count": 237,
   "metadata": {},
   "outputs": [
    {
     "data": {
      "text/plain": [
       "Mostly Cloudy                          21860\n",
       "Partly Cloudy                          17526\n",
       "Overcast                               13506\n",
       "Clear                                   9648\n",
       "Foggy                                   5871\n",
       "Breezy and Dry                           630\n",
       "Breezy and Mostly Cloudy                 467\n",
       "Breezy and Overcast                      452\n",
       "Breezy and Partly Cloudy                 350\n",
       "Light Rain                               209\n",
       "Dry and Partly Cloudy                     86\n",
       "Windy and Partly Cloudy                   63\n",
       "Breezy                                    45\n",
       "Windy and Overcast                        42\n",
       "Dry                                       34\n",
       "Breezy and Foggy                          34\n",
       "Humid and Mostly Cloudy                   32\n",
       "Windy and Mostly Cloudy                   32\n",
       "Humid and Partly Cloudy                   17\n",
       "Dry and Mostly Cloudy                     14\n",
       "Humid and Overcast                         5\n",
       "Windy                                      5\n",
       "Drizzle                                    5\n",
       "Windy and Foggy                            3\n",
       "Dangerously Windy and Partly Cloudy        1\n",
       "Windy and Dry                              1\n",
       "Name: Cloud_Condition, dtype: int64"
      ]
     },
     "execution_count": 237,
     "metadata": {},
     "output_type": "execute_result"
    }
   ],
   "source": [
    "working_data[\"Cloud_Condition\"].value_counts()"
   ]
  },
  {
   "cell_type": "code",
   "execution_count": 238,
   "metadata": {},
   "outputs": [],
   "source": [
    "# from sklearn import preprocessing\n",
    "# Xg = [\"Cloud_Condition\"]\n",
    "# le = preprocessing.LabelEncoder()\n",
    "\n",
    "# for x in Xg:\n",
    "#     raw_data[x]=le.fit_transform(raw_data[x])"
   ]
  },
  {
   "cell_type": "code",
   "execution_count": 239,
   "metadata": {},
   "outputs": [
    {
     "data": {
      "text/html": [
       "<div>\n",
       "<style scoped>\n",
       "    .dataframe tbody tr th:only-of-type {\n",
       "        vertical-align: middle;\n",
       "    }\n",
       "\n",
       "    .dataframe tbody tr th {\n",
       "        vertical-align: top;\n",
       "    }\n",
       "\n",
       "    .dataframe thead th {\n",
       "        text-align: right;\n",
       "    }\n",
       "</style>\n",
       "<table border=\"1\" class=\"dataframe\">\n",
       "  <thead>\n",
       "    <tr style=\"text-align: right;\">\n",
       "      <th></th>\n",
       "      <th>Cloud_Condition</th>\n",
       "      <th>Rain_OR_SNOW</th>\n",
       "      <th>Temperature (C)</th>\n",
       "      <th>Apparent Temperature (C)</th>\n",
       "      <th>Humidity</th>\n",
       "      <th>Wind Speed (km/h)</th>\n",
       "      <th>Wind Bearing (degrees)</th>\n",
       "      <th>Visibility (km)</th>\n",
       "      <th>Pressure (millibars)</th>\n",
       "      <th>Condensation</th>\n",
       "      <th>Solar irradiance intensity</th>\n",
       "    </tr>\n",
       "  </thead>\n",
       "  <tbody>\n",
       "    <tr>\n",
       "      <th>0</th>\n",
       "      <td>Partly Cloudy</td>\n",
       "      <td>0</td>\n",
       "      <td>-13.0</td>\n",
       "      <td>-19.0</td>\n",
       "      <td>0.134364</td>\n",
       "      <td>17.0</td>\n",
       "      <td>68.0</td>\n",
       "      <td>4.0</td>\n",
       "      <td>1008.0</td>\n",
       "      <td>2</td>\n",
       "      <td>1068</td>\n",
       "    </tr>\n",
       "    <tr>\n",
       "      <th>1</th>\n",
       "      <td>Partly Cloudy</td>\n",
       "      <td>0</td>\n",
       "      <td>15.0</td>\n",
       "      <td>5.0</td>\n",
       "      <td>0.847434</td>\n",
       "      <td>8.0</td>\n",
       "      <td>291.0</td>\n",
       "      <td>2.0</td>\n",
       "      <td>1036.0</td>\n",
       "      <td>2</td>\n",
       "      <td>1291</td>\n",
       "    </tr>\n",
       "    <tr>\n",
       "      <th>2</th>\n",
       "      <td>Partly Cloudy</td>\n",
       "      <td>0</td>\n",
       "      <td>33.0</td>\n",
       "      <td>-12.0</td>\n",
       "      <td>0.763775</td>\n",
       "      <td>32.0</td>\n",
       "      <td>32.0</td>\n",
       "      <td>8.0</td>\n",
       "      <td>1004.0</td>\n",
       "      <td>0</td>\n",
       "      <td>1433</td>\n",
       "    </tr>\n",
       "    <tr>\n",
       "      <th>3</th>\n",
       "      <td>Partly Cloudy</td>\n",
       "      <td>1</td>\n",
       "      <td>30.0</td>\n",
       "      <td>36.0</td>\n",
       "      <td>0.255069</td>\n",
       "      <td>15.0</td>\n",
       "      <td>130.0</td>\n",
       "      <td>3.0</td>\n",
       "      <td>1016.0</td>\n",
       "      <td>0</td>\n",
       "      <td>1410</td>\n",
       "    </tr>\n",
       "    <tr>\n",
       "      <th>4</th>\n",
       "      <td>Partly Cloudy</td>\n",
       "      <td>1</td>\n",
       "      <td>27.0</td>\n",
       "      <td>30.0</td>\n",
       "      <td>0.495435</td>\n",
       "      <td>63.0</td>\n",
       "      <td>60.0</td>\n",
       "      <td>15.0</td>\n",
       "      <td>1007.0</td>\n",
       "      <td>1</td>\n",
       "      <td>1391</td>\n",
       "    </tr>\n",
       "    <tr>\n",
       "      <th>...</th>\n",
       "      <td>...</td>\n",
       "      <td>...</td>\n",
       "      <td>...</td>\n",
       "      <td>...</td>\n",
       "      <td>...</td>\n",
       "      <td>...</td>\n",
       "      <td>...</td>\n",
       "      <td>...</td>\n",
       "      <td>...</td>\n",
       "      <td>...</td>\n",
       "      <td>...</td>\n",
       "    </tr>\n",
       "    <tr>\n",
       "      <th>71423</th>\n",
       "      <td>Foggy</td>\n",
       "      <td>0</td>\n",
       "      <td>39.0</td>\n",
       "      <td>31.0</td>\n",
       "      <td>0.243553</td>\n",
       "      <td>19.0</td>\n",
       "      <td>347.0</td>\n",
       "      <td>14.0</td>\n",
       "      <td>1013.0</td>\n",
       "      <td>2</td>\n",
       "      <td>1269</td>\n",
       "    </tr>\n",
       "    <tr>\n",
       "      <th>71424</th>\n",
       "      <td>Foggy</td>\n",
       "      <td>0</td>\n",
       "      <td>8.0</td>\n",
       "      <td>4.0</td>\n",
       "      <td>0.913108</td>\n",
       "      <td>1.0</td>\n",
       "      <td>101.0</td>\n",
       "      <td>8.0</td>\n",
       "      <td>1031.0</td>\n",
       "      <td>0</td>\n",
       "      <td>1224</td>\n",
       "    </tr>\n",
       "    <tr>\n",
       "      <th>71425</th>\n",
       "      <td>Mostly Cloudy</td>\n",
       "      <td>0</td>\n",
       "      <td>28.0</td>\n",
       "      <td>-22.0</td>\n",
       "      <td>0.496076</td>\n",
       "      <td>2.0</td>\n",
       "      <td>149.0</td>\n",
       "      <td>7.0</td>\n",
       "      <td>1032.0</td>\n",
       "      <td>2</td>\n",
       "      <td>1463</td>\n",
       "    </tr>\n",
       "    <tr>\n",
       "      <th>71426</th>\n",
       "      <td>Mostly Cloudy</td>\n",
       "      <td>0</td>\n",
       "      <td>-16.0</td>\n",
       "      <td>-3.0</td>\n",
       "      <td>0.783161</td>\n",
       "      <td>44.0</td>\n",
       "      <td>266.0</td>\n",
       "      <td>11.0</td>\n",
       "      <td>1019.0</td>\n",
       "      <td>1</td>\n",
       "      <td>1251</td>\n",
       "    </tr>\n",
       "    <tr>\n",
       "      <th>71427</th>\n",
       "      <td>Mostly Cloudy</td>\n",
       "      <td>0</td>\n",
       "      <td>-15.0</td>\n",
       "      <td>8.0</td>\n",
       "      <td>0.191555</td>\n",
       "      <td>38.0</td>\n",
       "      <td>154.0</td>\n",
       "      <td>6.0</td>\n",
       "      <td>1023.0</td>\n",
       "      <td>1</td>\n",
       "      <td>1258</td>\n",
       "    </tr>\n",
       "  </tbody>\n",
       "</table>\n",
       "<p>70938 rows × 11 columns</p>\n",
       "</div>"
      ],
      "text/plain": [
       "      Cloud_Condition  Rain_OR_SNOW  Temperature (C)  \\\n",
       "0       Partly Cloudy             0            -13.0   \n",
       "1       Partly Cloudy             0             15.0   \n",
       "2       Partly Cloudy             0             33.0   \n",
       "3       Partly Cloudy             1             30.0   \n",
       "4       Partly Cloudy             1             27.0   \n",
       "...               ...           ...              ...   \n",
       "71423           Foggy             0             39.0   \n",
       "71424           Foggy             0              8.0   \n",
       "71425   Mostly Cloudy             0             28.0   \n",
       "71426   Mostly Cloudy             0            -16.0   \n",
       "71427   Mostly Cloudy             0            -15.0   \n",
       "\n",
       "       Apparent Temperature (C)  Humidity  Wind Speed (km/h)  \\\n",
       "0                         -19.0  0.134364               17.0   \n",
       "1                           5.0  0.847434                8.0   \n",
       "2                         -12.0  0.763775               32.0   \n",
       "3                          36.0  0.255069               15.0   \n",
       "4                          30.0  0.495435               63.0   \n",
       "...                         ...       ...                ...   \n",
       "71423                      31.0  0.243553               19.0   \n",
       "71424                       4.0  0.913108                1.0   \n",
       "71425                     -22.0  0.496076                2.0   \n",
       "71426                      -3.0  0.783161               44.0   \n",
       "71427                       8.0  0.191555               38.0   \n",
       "\n",
       "       Wind Bearing (degrees)  Visibility (km)  Pressure (millibars)  \\\n",
       "0                        68.0              4.0                1008.0   \n",
       "1                       291.0              2.0                1036.0   \n",
       "2                        32.0              8.0                1004.0   \n",
       "3                       130.0              3.0                1016.0   \n",
       "4                        60.0             15.0                1007.0   \n",
       "...                       ...              ...                   ...   \n",
       "71423                   347.0             14.0                1013.0   \n",
       "71424                   101.0              8.0                1031.0   \n",
       "71425                   149.0              7.0                1032.0   \n",
       "71426                   266.0             11.0                1019.0   \n",
       "71427                   154.0              6.0                1023.0   \n",
       "\n",
       "       Condensation  Solar irradiance intensity  \n",
       "0                 2                        1068  \n",
       "1                 2                        1291  \n",
       "2                 0                        1433  \n",
       "3                 0                        1410  \n",
       "4                 1                        1391  \n",
       "...             ...                         ...  \n",
       "71423             2                        1269  \n",
       "71424             0                        1224  \n",
       "71425             2                        1463  \n",
       "71426             1                        1251  \n",
       "71427             1                        1258  \n",
       "\n",
       "[70938 rows x 11 columns]"
      ]
     },
     "execution_count": 239,
     "metadata": {},
     "output_type": "execute_result"
    }
   ],
   "source": [
    "working_data"
   ]
  },
  {
   "cell_type": "code",
   "execution_count": 240,
   "metadata": {},
   "outputs": [],
   "source": [
    "X = working_data.values[:, 1:]\n",
    "Y = working_data.values[:, 0]"
   ]
  },
  {
   "cell_type": "code",
   "execution_count": 249,
   "metadata": {},
   "outputs": [],
   "source": [
    "from sklearn.model_selection import train_test_split\n",
    "\n",
    "#Split the data into test and train\n",
    "X_train, X_test, Y_train, Y_test = train_test_split(X, Y, test_size=0.2, random_state=10)"
   ]
  },
  {
   "cell_type": "code",
   "execution_count": 250,
   "metadata": {},
   "outputs": [],
   "source": [
    "from sklearn.preprocessing import StandardScaler\n",
    "\n",
    "scaler = StandardScaler()\n",
    "\n",
    "scaler.fit(X_train)\n",
    "#scaler.fit_transform(X_train)\n",
    "X_train = scaler.transform(X_train)\n",
    "X_test=scaler.transform(X_test)"
   ]
  },
  {
   "cell_type": "code",
   "execution_count": 251,
   "metadata": {},
   "outputs": [
    {
     "data": {
      "text/plain": [
       "(70938, 10)"
      ]
     },
     "execution_count": 251,
     "metadata": {},
     "output_type": "execute_result"
    }
   ],
   "source": [
    "X.shape"
   ]
  },
  {
   "cell_type": "code",
   "execution_count": 261,
   "metadata": {},
   "outputs": [
    {
     "data": {
      "text/plain": [
       "(70938,)"
      ]
     },
     "execution_count": 261,
     "metadata": {},
     "output_type": "execute_result"
    }
   ],
   "source": [
    "Y.shape"
   ]
  },
  {
   "cell_type": "code",
   "execution_count": 263,
   "metadata": {},
   "outputs": [],
   "source": [
    "# # import SMOTE from imblearn library\n",
    "# from imblearn.over_sampling import SMOTE\n",
    "# sm = SMOTE()\n",
    "# X_train_res, Y_train_res = sm.fit_resample(X, Y)"
   ]
  },
  {
   "cell_type": "markdown",
   "metadata": {},
   "source": [
    "### Random Forest"
   ]
  },
  {
   "cell_type": "code",
   "execution_count": 266,
   "metadata": {},
   "outputs": [],
   "source": [
    "#predicting using the Decision_Tree_Classifier\n",
    "from sklearn.ensemble import RandomForestClassifier\n",
    "\n",
    "model= RandomForestClassifier(random_state=10,n_estimators=86,criterion=\"entropy\",min_samples_leaf=100,\n",
    "                                    min_samples_split=80,bootstrap=False,max_depth=10)\n",
    "\n",
    "#fit the model on the data and predict the values\n",
    "model.fit(X_train,Y_train)\n",
    "\n",
    "Y_pred = model.predict(X_test)"
   ]
  },
  {
   "cell_type": "code",
   "execution_count": 268,
   "metadata": {},
   "outputs": [
    {
     "name": "stdout",
     "output_type": "stream",
     "text": [
      "[[   0    0    0    0    0    0    0    0    0    0    2    0    0    0\n",
      "     0   11    0    0    0    0    0    0    0]\n",
      " [   0    0    0    0    0    0    0    0    0    0    8    0    0    0\n",
      "     0  124    2    0    0    0    0    0    0]\n",
      " [   0    0    0    0    0    0    0    0    0    0    3    0    0    0\n",
      "     0    3    1    0    0    0    0    0    0]\n",
      " [   0    0    0    0    0    0    0    0    0    0    6    0    0    0\n",
      "     0   96    2    1    0    0    0    0    0]\n",
      " [   0    0    0    0    0    0    0    0    0    0    6    0    0    0\n",
      "     0   78    2    0    0    0    0    0    0]\n",
      " [   0    0    0    0    0    0    0    0    0    0    1    0    0    0\n",
      "     0   56    0    0    0    0    0    0    0]\n",
      " [   0    0    0    0    0    0    0    0    0    0  175    0    0    0\n",
      "     0 1708   47    2    0    0    0    0    0]\n",
      " [   0    0    0    0    0    0    0    0    0    0    0    0    0    0\n",
      "     0    2    0    0    0    0    0    0    0]\n",
      " [   0    0    0    0    0    0    0    0    0    0    0    0    0    0\n",
      "     0    6    0    0    0    0    0    0    0]\n",
      " [   0    0    0    0    0    0    0    0    0    0    0    0    0    0\n",
      "     0   17    0    0    0    0    0    0    0]\n",
      " [   0    0    0    0    0    0    0    0    0    0  435    0    0    0\n",
      "     0  618  115    0    0    0    0    0    0]\n",
      " [   0    0    0    0    0    0    0    0    0    0    0    0    0    0\n",
      "     0    9    0    0    0    0    0    0    0]\n",
      " [   0    0    0    0    0    0    0    0    0    0    0    0    0    0\n",
      "     0    1    0    0    0    0    0    0    0]\n",
      " [   0    0    0    0    0    0    0    0    0    0    0    0    0    0\n",
      "     0    3    0    0    0    0    0    0    0]\n",
      " [   0    0    0    0    0    0    0    0    0    0    8    0    0    0\n",
      "     0   38    3    0    0    0    0    0    0]\n",
      " [   0    0    0    0    0    0    0    0    0    0  232    0    0    0\n",
      "     0 3997   74    1    0    0    0    0    0]\n",
      " [   0    0    0    0    0    0    0    0    0    0  378    0    0    0\n",
      "     0 2297  114    0    0    0    0    0    0]\n",
      " [   0    0    0    0    0    0    0    0    0    0  148    0    0    0\n",
      "     0 3290   36    1    0    0    0    0    0]\n",
      " [   0    0    0    0    0    0    0    0    0    0    0    0    0    0\n",
      "     0    2    0    0    0    0    0    0    0]\n",
      " [   0    0    0    0    0    0    0    0    0    0    0    0    0    0\n",
      "     0    1    0    0    0    0    0    0    0]\n",
      " [   0    0    0    0    0    0    0    0    0    0    0    0    0    0\n",
      "     0    8    0    0    0    0    0    0    0]\n",
      " [   0    0    0    0    0    0    0    0    0    0    0    0    0    0\n",
      "     0   10    0    0    0    0    0    0    0]\n",
      " [   0    0    0    0    0    0    0    0    0    0    0    0    0    0\n",
      "     0   10    0    0    0    0    0    0    0]]\n",
      "Classification report: \n",
      "                          precision    recall  f1-score   support\n",
      "\n",
      "                  Breezy       0.00      0.00      0.00        13\n",
      "          Breezy and Dry       0.00      0.00      0.00       134\n",
      "        Breezy and Foggy       0.00      0.00      0.00         7\n",
      "Breezy and Mostly Cloudy       0.00      0.00      0.00       105\n",
      "     Breezy and Overcast       0.00      0.00      0.00        86\n",
      "Breezy and Partly Cloudy       0.00      0.00      0.00        57\n",
      "                   Clear       0.00      0.00      0.00      1932\n",
      "                 Drizzle       0.00      0.00      0.00         2\n",
      "                     Dry       0.00      0.00      0.00         6\n",
      "   Dry and Partly Cloudy       0.00      0.00      0.00        17\n",
      "                   Foggy       0.31      0.37      0.34      1168\n",
      " Humid and Mostly Cloudy       0.00      0.00      0.00         9\n",
      "      Humid and Overcast       0.00      0.00      0.00         1\n",
      " Humid and Partly Cloudy       0.00      0.00      0.00         3\n",
      "              Light Rain       0.00      0.00      0.00        49\n",
      "           Mostly Cloudy       0.32      0.93      0.48      4304\n",
      "                Overcast       0.29      0.04      0.07      2789\n",
      "           Partly Cloudy       0.20      0.00      0.00      3475\n",
      "                   Windy       0.00      0.00      0.00         2\n",
      "         Windy and Foggy       0.00      0.00      0.00         1\n",
      " Windy and Mostly Cloudy       0.00      0.00      0.00         8\n",
      "      Windy and Overcast       0.00      0.00      0.00        10\n",
      " Windy and Partly Cloudy       0.00      0.00      0.00        10\n",
      "\n",
      "                accuracy                           0.32     14188\n",
      "               macro avg       0.05      0.06      0.04     14188\n",
      "            weighted avg       0.23      0.32      0.19     14188\n",
      "\n",
      "Accuracy of the model:  0.320482097547223\n"
     ]
    }
   ],
   "source": [
    "# from sklearn.metrics import confusion_matrix, accuracy_score, \\\n",
    "classification_report\n",
    "\n",
    "cfm=confusion_matrix(Y_test,Y_pred)\n",
    "print(cfm)\n",
    "\n",
    "print(\"Classification report: \")\n",
    "\n",
    "print(classification_report(Y_test,Y_pred))\n",
    "\n",
    "acc=accuracy_score(Y_test, Y_pred)\n",
    "print(\"Accuracy of the model: \",acc)"
   ]
  },
  {
   "cell_type": "code",
   "execution_count": null,
   "metadata": {},
   "outputs": [],
   "source": []
  },
  {
   "cell_type": "code",
   "execution_count": 299,
   "metadata": {},
   "outputs": [],
   "source": [
    "#predicting using the KNeighbors_classifier\n",
    "from sklearn.neighbors import KNeighborsClassifier\n",
    "model_KNN = KNeighborsClassifier(n_neighbors=50, metric= \"minkowski\")\n",
    "#euclidean,manhattan,minkowski\n",
    "#fit the model on the data and predict the values\n",
    "\n",
    "model_KNN.fit(X_train,Y_train)\n",
    "Y_pred=model_KNN.predict(X_test)\n",
    "# print(list(zip(Y_test,Y_pred)))\n"
   ]
  },
  {
   "cell_type": "code",
   "execution_count": 300,
   "metadata": {},
   "outputs": [
    {
     "name": "stdout",
     "output_type": "stream",
     "text": [
      "[[   0    0    0    0    0    0    0    0    0    0    2    0    0    0\n",
      "     0    9    0    2    0    0    0    0    0]\n",
      " [   0    0    0    0    0    0    2    0    0    0    8    0    0    0\n",
      "     0   92    3   29    0    0    0    0    0]\n",
      " [   0    0    0    0    0    0    0    0    0    0    3    0    0    0\n",
      "     0    2    1    1    0    0    0    0    0]\n",
      " [   0    0    0    0    0    0    0    0    0    0    6    0    0    0\n",
      "     0   74    3   22    0    0    0    0    0]\n",
      " [   0    0    0    0    0    0    1    0    0    0    6    0    0    0\n",
      "     0   52    5   22    0    0    0    0    0]\n",
      " [   0    0    0    0    0    0    0    0    0    0    1    0    0    0\n",
      "     0   44    0   12    0    0    0    0    0]\n",
      " [   0    0    0    0    0    0   11    0    0    0  146    0    0    0\n",
      "     0 1262  105  408    0    0    0    0    0]\n",
      " [   0    0    0    0    0    0    0    0    0    0    0    0    0    0\n",
      "     0    2    0    0    0    0    0    0    0]\n",
      " [   0    0    0    0    0    0    0    0    0    0    0    0    0    0\n",
      "     0    4    0    2    0    0    0    0    0]\n",
      " [   0    0    0    0    0    0    0    0    0    0    0    0    0    0\n",
      "     0   14    0    3    0    0    0    0    0]\n",
      " [   0    0    0    0    0    0   11    0    0    0  346    0    0    0\n",
      "     0  476  194  141    0    0    0    0    0]\n",
      " [   0    0    0    0    0    0    0    0    0    0    0    0    0    0\n",
      "     0    5    0    4    0    0    0    0    0]\n",
      " [   0    0    0    0    0    0    0    0    0    0    0    0    0    0\n",
      "     0    1    0    0    0    0    0    0    0]\n",
      " [   0    0    0    0    0    0    0    0    0    0    0    0    0    0\n",
      "     0    0    0    3    0    0    0    0    0]\n",
      " [   0    0    0    0    0    0    0    0    0    0    9    0    0    0\n",
      "     0   29    4    7    0    0    0    0    0]\n",
      " [   0    0    0    0    0    0   26    0    0    0  179    0    0    0\n",
      "     0 3024  210  865    0    0    0    0    0]\n",
      " [   0    0    0    0    0    0   20    0    0    0  290    0    0    0\n",
      "     0 1714  250  515    0    0    0    0    0]\n",
      " [   0    0    0    0    0    0   20    0    0    0  117    0    0    0\n",
      "     0 2450  146  742    0    0    0    0    0]\n",
      " [   0    0    0    0    0    0    0    0    0    0    0    0    0    0\n",
      "     0    2    0    0    0    0    0    0    0]\n",
      " [   0    0    0    0    0    0    0    0    0    0    0    0    0    0\n",
      "     0    1    0    0    0    0    0    0    0]\n",
      " [   0    0    0    0    0    0    0    0    0    0    0    0    0    0\n",
      "     0    4    0    4    0    0    0    0    0]\n",
      " [   0    0    0    0    0    0    0    0    0    0    0    0    0    0\n",
      "     0    8    0    2    0    0    0    0    0]\n",
      " [   0    0    0    0    0    0    0    0    0    0    0    0    0    0\n",
      "     0    8    0    2    0    0    0    0    0]]\n",
      "Classification report: \n",
      "                          precision    recall  f1-score   support\n",
      "\n",
      "                  Breezy       0.00      0.00      0.00        13\n",
      "          Breezy and Dry       0.00      0.00      0.00       134\n",
      "        Breezy and Foggy       0.00      0.00      0.00         7\n",
      "Breezy and Mostly Cloudy       0.00      0.00      0.00       105\n",
      "     Breezy and Overcast       0.00      0.00      0.00        86\n",
      "Breezy and Partly Cloudy       0.00      0.00      0.00        57\n",
      "                   Clear       0.12      0.01      0.01      1932\n",
      "                 Drizzle       0.00      0.00      0.00         2\n",
      "                     Dry       0.00      0.00      0.00         6\n",
      "   Dry and Partly Cloudy       0.00      0.00      0.00        17\n",
      "                   Foggy       0.31      0.30      0.30      1168\n",
      " Humid and Mostly Cloudy       0.00      0.00      0.00         9\n",
      "      Humid and Overcast       0.00      0.00      0.00         1\n",
      " Humid and Partly Cloudy       0.00      0.00      0.00         3\n",
      "              Light Rain       0.00      0.00      0.00        49\n",
      "           Mostly Cloudy       0.33      0.70      0.45      4304\n",
      "                Overcast       0.27      0.09      0.13      2789\n",
      "           Partly Cloudy       0.27      0.21      0.24      3475\n",
      "                   Windy       0.00      0.00      0.00         2\n",
      "         Windy and Foggy       0.00      0.00      0.00         1\n",
      " Windy and Mostly Cloudy       0.00      0.00      0.00         8\n",
      "      Windy and Overcast       0.00      0.00      0.00        10\n",
      " Windy and Partly Cloudy       0.00      0.00      0.00        10\n",
      "\n",
      "                accuracy                           0.31     14188\n",
      "               macro avg       0.06      0.06      0.05     14188\n",
      "            weighted avg       0.26      0.31      0.25     14188\n",
      "\n",
      "Accuracy of the model:  0.3082182125740062\n"
     ]
    }
   ],
   "source": [
    "from sklearn.metrics import confusion_matrix, accuracy_score, \\\n",
    "classification_report\n",
    "\n",
    "cfm=confusion_matrix(Y_test,Y_pred)\n",
    "print(cfm)\n",
    "\n",
    "print(\"Classification report: \")\n",
    "\n",
    "print(classification_report(Y_test,Y_pred))\n",
    "\n",
    "acc=accuracy_score(Y_test, Y_pred)\n",
    "print(\"Accuracy of the model: \",acc)"
   ]
  },
  {
   "cell_type": "code",
   "execution_count": 306,
   "metadata": {},
   "outputs": [],
   "source": [
    "#predicting using the Extra_Tree_Classifier\n",
    "from sklearn.ensemble import ExtraTreesClassifier\n",
    "\n",
    "model= ExtraTreesClassifier(n_estimators=100,\n",
    "                                          random_state=10)\n",
    "\n",
    "#fit the model on the data and predict the values\n",
    "model.fit(X_train,Y_train)\n",
    "\n",
    "Y_pred = model.predict(X_test)"
   ]
  },
  {
   "cell_type": "code",
   "execution_count": 307,
   "metadata": {},
   "outputs": [
    {
     "name": "stdout",
     "output_type": "stream",
     "text": [
      "[[   0    0    0    0    0    0    1    0    0    0    2    0    0    0\n",
      "     0    5    0    5    0    0    0    0    0]\n",
      " [   0    0    0    0    0    0    0    0    0    0    8    0    0    0\n",
      "     0   80    5   41    0    0    0    0    0]\n",
      " [   0    0    0    0    0    0    0    0    0    0    1    0    0    0\n",
      "     0    2    2    2    0    0    0    0    0]\n",
      " [   0    0    0    0    0    0    0    0    0    0    5    0    0    0\n",
      "     0   63   10   27    0    0    0    0    0]\n",
      " [   0    0    0    0    0    0    0    0    0    0    6    0    0    0\n",
      "     0   57    5   18    0    0    0    0    0]\n",
      " [   0    0    0    0    0    0    1    0    0    0    1    0    0    0\n",
      "     0   43    3    9    0    0    0    0    0]\n",
      " [   0    0    0    0    0    0   25    0    0    0  113    0    0    0\n",
      "     0 1171  161  462    0    0    0    0    0]\n",
      " [   0    0    0    0    0    0    0    0    0    0    0    0    0    0\n",
      "     0    1    0    1    0    0    0    0    0]\n",
      " [   0    0    0    0    0    0    0    0    0    0    0    0    0    0\n",
      "     0    6    0    0    0    0    0    0    0]\n",
      " [   0    0    0    0    0    0    0    0    0    0    0    0    0    0\n",
      "     0    9    0    8    0    0    0    0    0]\n",
      " [   0    0    0    0    0    0   24    0    0    0  275    0    0    0\n",
      "     0  461  251  157    0    0    0    0    0]\n",
      " [   0    0    0    0    0    0    0    0    0    0    0    0    0    0\n",
      "     0    7    0    2    0    0    0    0    0]\n",
      " [   0    0    0    0    0    0    0    0    0    0    0    0    0    0\n",
      "     0    1    0    0    0    0    0    0    0]\n",
      " [   0    0    0    0    0    0    0    0    0    0    0    0    0    0\n",
      "     0    1    2    0    0    0    0    0    0]\n",
      " [   0    0    0    0    0    0    2    0    0    0    3    0    0    0\n",
      "     0   26   10    8    0    0    0    0    0]\n",
      " [   0    0    0    0    0    0   53    0    0    0  174    0    0    0\n",
      "     0 2769  264 1044    0    0    0    0    0]\n",
      " [   0    0    0    0    0    0   42    0    0    0  270    0    0    0\n",
      "     0 1613  276  588    0    0    0    0    0]\n",
      " [   0    0    0    0    0    0   39    0    0    0  116    0    0    0\n",
      "     0 2308  162  850    0    0    0    0    0]\n",
      " [   0    0    0    0    0    0    0    0    0    0    0    0    0    0\n",
      "     0    1    1    0    0    0    0    0    0]\n",
      " [   0    0    0    0    0    0    0    0    0    0    0    0    0    0\n",
      "     0    1    0    0    0    0    0    0    0]\n",
      " [   0    0    0    0    0    0    0    0    0    0    0    0    0    0\n",
      "     0    4    1    3    0    0    0    0    0]\n",
      " [   0    0    0    0    0    0    0    0    0    0    0    0    0    0\n",
      "     0    8    1    1    0    0    0    0    0]\n",
      " [   0    0    0    0    0    0    0    0    0    0    0    0    0    0\n",
      "     0    6    1    3    0    0    0    0    0]]\n",
      "Classification report: \n",
      "                          precision    recall  f1-score   support\n",
      "\n",
      "                  Breezy       0.00      0.00      0.00        13\n",
      "          Breezy and Dry       0.00      0.00      0.00       134\n",
      "        Breezy and Foggy       0.00      0.00      0.00         7\n",
      "Breezy and Mostly Cloudy       0.00      0.00      0.00       105\n",
      "     Breezy and Overcast       0.00      0.00      0.00        86\n",
      "Breezy and Partly Cloudy       0.00      0.00      0.00        57\n",
      "                   Clear       0.13      0.01      0.02      1932\n",
      "                 Drizzle       0.00      0.00      0.00         2\n",
      "                     Dry       0.00      0.00      0.00         6\n",
      "   Dry and Partly Cloudy       0.00      0.00      0.00        17\n",
      "                   Foggy       0.28      0.24      0.26      1168\n",
      " Humid and Mostly Cloudy       0.00      0.00      0.00         9\n",
      "      Humid and Overcast       0.00      0.00      0.00         1\n",
      " Humid and Partly Cloudy       0.00      0.00      0.00         3\n",
      "              Light Rain       0.00      0.00      0.00        49\n",
      "           Mostly Cloudy       0.32      0.64      0.43      4304\n",
      "                Overcast       0.24      0.10      0.14      2789\n",
      "           Partly Cloudy       0.26      0.24      0.25      3475\n",
      "                   Windy       0.00      0.00      0.00         2\n",
      "         Windy and Foggy       0.00      0.00      0.00         1\n",
      " Windy and Mostly Cloudy       0.00      0.00      0.00         8\n",
      "      Windy and Overcast       0.00      0.00      0.00        10\n",
      " Windy and Partly Cloudy       0.00      0.00      0.00        10\n",
      "\n",
      "                accuracy                           0.30     14188\n",
      "               macro avg       0.05      0.05      0.05     14188\n",
      "            weighted avg       0.25      0.30      0.24     14188\n",
      "\n",
      "Accuracy of the model:  0.2956723992106005\n"
     ]
    }
   ],
   "source": [
    "from sklearn.metrics import confusion_matrix, accuracy_score, \\\n",
    "classification_report\n",
    "\n",
    "cfm=confusion_matrix(Y_test,Y_pred)\n",
    "print(cfm)\n",
    "\n",
    "print(\"Classification report: \")\n",
    "\n",
    "print(classification_report(Y_test,Y_pred))\n",
    "\n",
    "acc=accuracy_score(Y_test, Y_pred)\n",
    "print(\"Accuracy of the model: \",acc)"
   ]
  },
  {
   "cell_type": "code",
   "execution_count": null,
   "metadata": {},
   "outputs": [],
   "source": []
  },
  {
   "cell_type": "code",
   "execution_count": null,
   "metadata": {},
   "outputs": [],
   "source": []
  },
  {
   "cell_type": "code",
   "execution_count": null,
   "metadata": {},
   "outputs": [],
   "source": []
  },
  {
   "cell_type": "code",
   "execution_count": null,
   "metadata": {},
   "outputs": [],
   "source": []
  },
  {
   "cell_type": "code",
   "execution_count": null,
   "metadata": {},
   "outputs": [],
   "source": []
  },
  {
   "cell_type": "code",
   "execution_count": null,
   "metadata": {},
   "outputs": [],
   "source": []
  },
  {
   "cell_type": "code",
   "execution_count": null,
   "metadata": {},
   "outputs": [],
   "source": []
  },
  {
   "cell_type": "code",
   "execution_count": null,
   "metadata": {},
   "outputs": [],
   "source": []
  },
  {
   "cell_type": "code",
   "execution_count": null,
   "metadata": {},
   "outputs": [],
   "source": []
  },
  {
   "cell_type": "code",
   "execution_count": null,
   "metadata": {},
   "outputs": [],
   "source": []
  },
  {
   "cell_type": "code",
   "execution_count": null,
   "metadata": {},
   "outputs": [],
   "source": []
  },
  {
   "cell_type": "code",
   "execution_count": null,
   "metadata": {},
   "outputs": [],
   "source": []
  },
  {
   "cell_type": "code",
   "execution_count": null,
   "metadata": {},
   "outputs": [],
   "source": []
  },
  {
   "cell_type": "code",
   "execution_count": null,
   "metadata": {},
   "outputs": [],
   "source": []
  },
  {
   "cell_type": "code",
   "execution_count": null,
   "metadata": {},
   "outputs": [],
   "source": []
  },
  {
   "cell_type": "code",
   "execution_count": null,
   "metadata": {},
   "outputs": [],
   "source": []
  },
  {
   "cell_type": "code",
   "execution_count": null,
   "metadata": {},
   "outputs": [],
   "source": []
  },
  {
   "cell_type": "code",
   "execution_count": null,
   "metadata": {},
   "outputs": [],
   "source": []
  },
  {
   "cell_type": "code",
   "execution_count": null,
   "metadata": {},
   "outputs": [],
   "source": []
  },
  {
   "cell_type": "code",
   "execution_count": null,
   "metadata": {},
   "outputs": [],
   "source": []
  },
  {
   "cell_type": "code",
   "execution_count": null,
   "metadata": {},
   "outputs": [],
   "source": []
  },
  {
   "cell_type": "code",
   "execution_count": null,
   "metadata": {},
   "outputs": [],
   "source": []
  },
  {
   "cell_type": "code",
   "execution_count": null,
   "metadata": {},
   "outputs": [],
   "source": []
  },
  {
   "cell_type": "code",
   "execution_count": 269,
   "metadata": {},
   "outputs": [
    {
     "data": {
      "text/plain": [
       "(16452, 11)"
      ]
     },
     "execution_count": 269,
     "metadata": {},
     "output_type": "execute_result"
    }
   ],
   "source": [
    "Test_data = pd.read_csv(\"test_CloudCondition.csv\")\n",
    "Test_data.shape"
   ]
  },
  {
   "cell_type": "code",
   "execution_count": 270,
   "metadata": {},
   "outputs": [
    {
     "data": {
      "text/html": [
       "<div>\n",
       "<style scoped>\n",
       "    .dataframe tbody tr th:only-of-type {\n",
       "        vertical-align: middle;\n",
       "    }\n",
       "\n",
       "    .dataframe tbody tr th {\n",
       "        vertical-align: top;\n",
       "    }\n",
       "\n",
       "    .dataframe thead th {\n",
       "        text-align: right;\n",
       "    }\n",
       "</style>\n",
       "<table border=\"1\" class=\"dataframe\">\n",
       "  <thead>\n",
       "    <tr style=\"text-align: right;\">\n",
       "      <th></th>\n",
       "      <th>Day</th>\n",
       "      <th>Rain_OR_SNOW</th>\n",
       "      <th>Temperature (C)</th>\n",
       "      <th>Apparent Temperature (C)</th>\n",
       "      <th>Humidity</th>\n",
       "      <th>Wind Speed (km/h)</th>\n",
       "      <th>Wind Bearing (degrees)</th>\n",
       "      <th>Visibility (km)</th>\n",
       "      <th>Pressure (millibars)</th>\n",
       "      <th>Condensation</th>\n",
       "      <th>Solar irradiance intensity</th>\n",
       "    </tr>\n",
       "  </thead>\n",
       "  <tbody>\n",
       "    <tr>\n",
       "      <th>0</th>\n",
       "      <td>80002</td>\n",
       "      <td>rain</td>\n",
       "      <td>1.0</td>\n",
       "      <td>0.0</td>\n",
       "      <td>0.078150</td>\n",
       "      <td>17.0</td>\n",
       "      <td>300</td>\n",
       "      <td>10.0</td>\n",
       "      <td>1029.0</td>\n",
       "      <td>Fog</td>\n",
       "      <td>1399</td>\n",
       "    </tr>\n",
       "    <tr>\n",
       "      <th>1</th>\n",
       "      <td>80003</td>\n",
       "      <td>rain</td>\n",
       "      <td>-3.0</td>\n",
       "      <td>25.0</td>\n",
       "      <td>0.653251</td>\n",
       "      <td>25.0</td>\n",
       "      <td>322</td>\n",
       "      <td>0.0</td>\n",
       "      <td>1009.0</td>\n",
       "      <td>Dry</td>\n",
       "      <td>1468</td>\n",
       "    </tr>\n",
       "    <tr>\n",
       "      <th>2</th>\n",
       "      <td>80004</td>\n",
       "      <td>rain</td>\n",
       "      <td>18.0</td>\n",
       "      <td>17.0</td>\n",
       "      <td>0.930970</td>\n",
       "      <td>37.0</td>\n",
       "      <td>330</td>\n",
       "      <td>12.0</td>\n",
       "      <td>1045.0</td>\n",
       "      <td>Dry</td>\n",
       "      <td>1152</td>\n",
       "    </tr>\n",
       "    <tr>\n",
       "      <th>3</th>\n",
       "      <td>80005</td>\n",
       "      <td>rain</td>\n",
       "      <td>33.0</td>\n",
       "      <td>-12.0</td>\n",
       "      <td>0.778844</td>\n",
       "      <td>50.0</td>\n",
       "      <td>350</td>\n",
       "      <td>3.0</td>\n",
       "      <td>1022.0</td>\n",
       "      <td>Fog</td>\n",
       "      <td>1003</td>\n",
       "    </tr>\n",
       "    <tr>\n",
       "      <th>4</th>\n",
       "      <td>80006</td>\n",
       "      <td>rain</td>\n",
       "      <td>25.0</td>\n",
       "      <td>-19.0</td>\n",
       "      <td>0.491523</td>\n",
       "      <td>62.0</td>\n",
       "      <td>300</td>\n",
       "      <td>12.0</td>\n",
       "      <td>1042.0</td>\n",
       "      <td>Fog</td>\n",
       "      <td>1228</td>\n",
       "    </tr>\n",
       "  </tbody>\n",
       "</table>\n",
       "</div>"
      ],
      "text/plain": [
       "     Day Rain_OR_SNOW  Temperature (C)  Apparent Temperature (C)  Humidity  \\\n",
       "0  80002         rain              1.0                       0.0  0.078150   \n",
       "1  80003         rain             -3.0                      25.0  0.653251   \n",
       "2  80004         rain             18.0                      17.0  0.930970   \n",
       "3  80005         rain             33.0                     -12.0  0.778844   \n",
       "4  80006         rain             25.0                     -19.0  0.491523   \n",
       "\n",
       "   Wind Speed (km/h)  Wind Bearing (degrees)  Visibility (km)  \\\n",
       "0               17.0                     300             10.0   \n",
       "1               25.0                     322              0.0   \n",
       "2               37.0                     330             12.0   \n",
       "3               50.0                     350              3.0   \n",
       "4               62.0                     300             12.0   \n",
       "\n",
       "   Pressure (millibars) Condensation  Solar irradiance intensity  \n",
       "0                1029.0          Fog                        1399  \n",
       "1                1009.0          Dry                        1468  \n",
       "2                1045.0          Dry                        1152  \n",
       "3                1022.0          Fog                        1003  \n",
       "4                1042.0          Fog                        1228  "
      ]
     },
     "execution_count": 270,
     "metadata": {},
     "output_type": "execute_result"
    }
   ],
   "source": [
    "Test_data.head()"
   ]
  },
  {
   "cell_type": "code",
   "execution_count": 271,
   "metadata": {},
   "outputs": [
    {
     "data": {
      "text/plain": [
       "Day                           0\n",
       "Rain_OR_SNOW                  0\n",
       "Temperature (C)               0\n",
       "Apparent Temperature (C)      0\n",
       "Humidity                      0\n",
       "Wind Speed (km/h)             0\n",
       "Wind Bearing (degrees)        0\n",
       "Visibility (km)               0\n",
       "Pressure (millibars)          0\n",
       "Condensation                  0\n",
       "Solar irradiance intensity    0\n",
       "dtype: int64"
      ]
     },
     "execution_count": 271,
     "metadata": {},
     "output_type": "execute_result"
    }
   ],
   "source": [
    "Test_data.isnull().sum()"
   ]
  },
  {
   "cell_type": "code",
   "execution_count": 272,
   "metadata": {},
   "outputs": [
    {
     "data": {
      "text/plain": [
       "Day                             int64\n",
       "Rain_OR_SNOW                   object\n",
       "Temperature (C)               float64\n",
       "Apparent Temperature (C)      float64\n",
       "Humidity                      float64\n",
       "Wind Speed (km/h)             float64\n",
       "Wind Bearing (degrees)          int64\n",
       "Visibility (km)               float64\n",
       "Pressure (millibars)          float64\n",
       "Condensation                   object\n",
       "Solar irradiance intensity      int64\n",
       "dtype: object"
      ]
     },
     "execution_count": 272,
     "metadata": {},
     "output_type": "execute_result"
    }
   ],
   "source": [
    "Test_data.dtypes"
   ]
  },
  {
   "cell_type": "code",
   "execution_count": 273,
   "metadata": {},
   "outputs": [],
   "source": [
    "#List Of categorical Columns and Numerical Columns(Except target variable)\n",
    "cat=[]\n",
    "num=[]\n",
    "for x in Test_data.columns[:]:\n",
    "    if Test_data[x].dtype==\"object\":\n",
    "        cat.append(x)\n",
    "    else:\n",
    "        num.append(x)"
   ]
  },
  {
   "cell_type": "code",
   "execution_count": 274,
   "metadata": {},
   "outputs": [],
   "source": [
    "from sklearn import preprocessing\n",
    "\n",
    "le = preprocessing.LabelEncoder()\n",
    "\n",
    "for x in cat:\n",
    "    Test_data[x]=le.fit_transform(Test_data[x])"
   ]
  },
  {
   "cell_type": "code",
   "execution_count": 275,
   "metadata": {},
   "outputs": [],
   "source": [
    "from sklearn.preprocessing import StandardScaler\n",
    "\n",
    "scaler = StandardScaler()\n",
    "\n",
    "scaler.fit(X_train)\n",
    "#scaler.fit_transform(X_train)\n",
    "# X_train = scaler.transform(X_train)\n",
    "Test=scaler.transform(Test_data.iloc[:,1:])"
   ]
  },
  {
   "cell_type": "code",
   "execution_count": 276,
   "metadata": {},
   "outputs": [
    {
     "data": {
      "text/plain": [
       "array([[-2.85007456e-16,  1.00000000e+00, -1.11775298e-15, ...,\n",
       "         1.02900000e+03,  1.00000000e+00,  1.39900000e+03],\n",
       "       [-2.85007456e-16, -3.00000000e+00,  2.50000000e+01, ...,\n",
       "         1.00900000e+03, -2.88521043e-16,  1.46800000e+03],\n",
       "       [-2.85007456e-16,  1.80000000e+01,  1.70000000e+01, ...,\n",
       "         1.04500000e+03, -2.88521043e-16,  1.15200000e+03],\n",
       "       ...,\n",
       "       [-2.85007456e-16,  2.20388889e+01,  4.40166667e+01, ...,\n",
       "         1.01566000e+03,  3.00000000e+00,  1.00800000e+03],\n",
       "       [-2.85007456e-16,  2.15222222e+01,  4.57722222e+01, ...,\n",
       "         1.01595000e+03,  1.00000000e+00,  1.36900000e+03],\n",
       "       [-2.85007456e-16,  2.04388889e+01,  4.75277778e+01, ...,\n",
       "         1.01616000e+03, -2.88521043e-16,  1.24400000e+03]])"
      ]
     },
     "execution_count": 276,
     "metadata": {},
     "output_type": "execute_result"
    }
   ],
   "source": [
    "Test"
   ]
  },
  {
   "cell_type": "code",
   "execution_count": 277,
   "metadata": {},
   "outputs": [],
   "source": [
    "# Test = Test_data.values[:,1:]"
   ]
  },
  {
   "cell_type": "code",
   "execution_count": 312,
   "metadata": {},
   "outputs": [],
   "source": [
    "# Y_pred=model_GradientBoost.predict(Test)\n",
    "# Y_pred = model_DecisionTree.predict(Test)\n",
    "# Y_pred_new=svc_model.predict(Test)\n",
    "# Y_pred=model_KNN.predict(Test)\n",
    "Y_pred = model.predict(Test)\n",
    "# Y_pred = model.predict(Test)\n",
    "\n",
    "\n"
   ]
  },
  {
   "cell_type": "code",
   "execution_count": 313,
   "metadata": {},
   "outputs": [],
   "source": [
    "# Y_pred= pd.DataFrame(Y_pred)"
   ]
  },
  {
   "cell_type": "code",
   "execution_count": 314,
   "metadata": {},
   "outputs": [],
   "source": [
    "# Y_pred = le.inverse_transform(Y_pred)"
   ]
  },
  {
   "cell_type": "code",
   "execution_count": 315,
   "metadata": {},
   "outputs": [],
   "source": [
    "Sol = pd.DataFrame({ \"Day\":Test_data.Day, 'Cloud_Condition': Y_pred })"
   ]
  },
  {
   "cell_type": "code",
   "execution_count": 316,
   "metadata": {},
   "outputs": [],
   "source": [
    "Sol.to_csv(\"KNNSol12.csv\", index= False)"
   ]
  },
  {
   "cell_type": "code",
   "execution_count": null,
   "metadata": {},
   "outputs": [],
   "source": []
  }
 ],
 "metadata": {
  "kernelspec": {
   "display_name": "Python 3",
   "language": "python",
   "name": "python3"
  },
  "language_info": {
   "codemirror_mode": {
    "name": "ipython",
    "version": 3
   },
   "file_extension": ".py",
   "mimetype": "text/x-python",
   "name": "python",
   "nbconvert_exporter": "python",
   "pygments_lexer": "ipython3",
   "version": "3.8.3"
  }
 },
 "nbformat": 4,
 "nbformat_minor": 4
}
